{
 "cells": [
  {
   "cell_type": "markdown",
   "metadata": {},
   "source": [
    "# Deteccion de movimiento"
   ]
  },
  {
   "cell_type": "markdown",
   "metadata": {},
   "source": [
    "importar librerias"
   ]
  },
  {
   "cell_type": "code",
   "execution_count": 2,
   "metadata": {},
   "outputs": [],
   "source": [
    "\n",
    "import numpy as np\n",
    "import cv2\n"
   ]
  },
  {
   "cell_type": "markdown",
   "metadata": {},
   "source": [
    "secuencia"
   ]
  },
  {
   "cell_type": "code",
   "execution_count": 5,
   "metadata": {},
   "outputs": [
    {
     "data": {
      "text/plain": [
       "(480, 640, 3)"
      ]
     },
     "execution_count": 5,
     "metadata": {},
     "output_type": "execute_result"
    }
   ],
   "source": [
    "frame.shape"
   ]
  },
  {
   "cell_type": "code",
   "execution_count": 22,
   "metadata": {},
   "outputs": [],
   "source": [
    "## llamamos al video\n",
    "cap=cv2.VideoCapture(0)\n",
    "\n",
    "#usamos algoritmo de sustraccion de fondo\n",
    "fgbg=cv2.bgsegm.createBackgroundSubtractorMOG()\n",
    "\n",
    "\"\"\"\"se aplica el kernel manualmente con esta funcion a la cual el kernel\n",
    "queda asi \n",
    "\n",
    " cv.getStructuringElement(cv.MORPH_ELLIPSE,(5,5)) depende del tamaño\n",
    "array([[0, 0, 1, 0, 0],\n",
    "       [1, 1, 1, 1, 1],\n",
    "       [1, 1, 1, 1, 1],\n",
    "       [1, 1, 1, 1, 1],\n",
    "       [0, 0, 1, 0, 0]], dtype=uint8)\n",
    "\"\"\"\"\"\n",
    "kernel=cv2.getStructuringElement(cv2.MORPH_ELLIPSE,(3,3))\n",
    "\n",
    "\n",
    "#iniciamos loop\n",
    "\n",
    "while True:\n",
    "    ##lee la entrada del video en si como booleano y \"frame\" es la imagen a sacar con frames\n",
    "    ret,frame =cap.read()\n",
    "    ##si no  es verdadero ret se quita\n",
    "    if ret==False:\n",
    "        break\n",
    "    \n",
    "    #dejamos la entrada de imagen en grises\n",
    "    gray=cv2.cvtColor(frame,cv2.COLOR_BGR2GRAY)\n",
    "    #redimensionar la imagen si es necesario\n",
    "    #cv2.resize(frame,(10,10),interpolation=cv2.INTER_AREA)\n",
    "    \n",
    "    \"\"\"\"\"\n",
    "    Se inician rectangulos en donde sera puesta la imagen, donde empieza en (x,y),donde termina(x,y)\n",
    "    frame.shape[1] es el valor de 1920 en x, luego colores en rgb de 0 a 255, y el contorno que tendra\n",
    "\n",
    "    \"\"\"\"\"\n",
    "    cv2.rectangle(frame,(0,0),(frame.shape[1],40),(0,0,0),-1)\n",
    "    color=(0,255,0)\n",
    "\n",
    "    # se pone un mensaje en el rectangulo\n",
    "    texto_estado=\"Estado: No se ha detectado movimiento\"\n",
    "\n",
    "    \"\"\"\"\"\n",
    "    Definimos el area a usar [x,y] del primer punto de izquierda superior,derecha superior,derecha inferior,\n",
    "    izquierda inferior\n",
    "\n",
    "    esta configuracion es el area que vamos a detectar dentro de la imagen\n",
    "\n",
    "    se utiliza numpy para crear dicha matriz\n",
    "\n",
    "    \"\"\"\"\"\n",
    "    #area_pts=np.array([[650,700],[1200,700],[1500,frame.shape[0]],[500,frame.shape[0]]])\n",
    "    area_pts=np.array([[100,100],[600,100],[600,frame.shape[0]],[100,frame.shape[0]]])\n",
    "\n",
    "    #ponemos en ceros una matriz de 1440 filas,1920 columnas\n",
    "    imAux=np.zeros(shape=(frame.shape[:2]),dtype=np.uint8)\n",
    "    #dentro de la matriz auxiliar dibujamos un controrno en si(en donde se dibuja, en que puntos seran)\n",
    "    imAux=cv2.drawContours(imAux,[area_pts],-1,(255,255,255),-1)\n",
    "    #convertimos el area blanca en gris para tener l a imagen con contrsates\n",
    "    image_area=cv2.bitwise_and(gray,gray,mask=imAux)\n",
    "\n",
    "    ## creamos otra imagen llamada fgmask el cual se sustrae de\n",
    "    fgmask=fgbg.apply(image_area)\n",
    "\n",
    "    # se crean transformaiones de la segmentacion en el cual quitamos ruido\n",
    "    fgmask=cv2.morphologyEx(fgmask, cv2.MORPH_OPEN,kernel)\n",
    " \n",
    "    ##rellenamos las segmentaciones\n",
    "    fgmask=cv2.dilate(fgmask,None,iterations=5)\n",
    "\n",
    "    #relleno de segmentacion de puntos negros\n",
    "    fgmask =cv2.morphologyEx(fgmask, cv2.MORPH_CLOSE, kernel)\n",
    "    \n",
    "    \"\"\"\"\"\n",
    "    Basandonos de fgmask buscamos si hay contornos es decir las segmentaciones o si se ve eso \n",
    "\n",
    "    \"\"\"\"\" \n",
    "    cnts=cv2.findContours(fgmask,cv2.RETR_EXTERNAL,cv2.CHAIN_APPROX_SIMPLE)[0]\n",
    "\n",
    "    \"\"\"\"\"\n",
    "    se hace ciclo for para analizar dentro de  elldibujo de contornos y si es mayor a 500 piixeles es decir su area\n",
    "    se dibujara el  cuadro dentro del area en movimiento y dara mensaje de que hay movimiento y cambia el cuadro\n",
    "    a color rojo  y cambia el estado y su solor \n",
    "\n",
    "    \"\"\"\"\"\n",
    "    for cnt in cnts:\n",
    "        if cv2.contourArea(cnt)>100:\n",
    "            #retorna  los valores que vwemos, \n",
    "            x,y,w,h=cv2.boundingRect(cnt)\n",
    "            cv2.rectangle(frame,(x,y),(x+w,y+h),(0,255,0),2)\n",
    "            texto_estado=\"Estado alerta movimiento detectado!\"\n",
    "            color=(0,0,255)\n",
    "\n",
    "    \"\"\"\"\"\n",
    "    dibujamos en contrno en los puntos que hemos asignado sin rellenar con el color puesto, agregamos texto en el \n",
    "    nuevo frame, y mostramos al final las dos salidas, una del video y otra segmentados\n",
    "\n",
    "    \"\"\"\"\"\n",
    "    cv2.drawContours(frame,[area_pts],-1,color,2)\n",
    "    cv2.putText(frame, texto_estado,(10,30),cv2.FONT_HERSHEY_SIMPLEX,1,color,2)\n",
    "    cv2.imshow('fgmask',fgmask)\n",
    "    cv2.imshow(\"frame\",frame)\n",
    "\n",
    "    # si queremos salir necesitamos apretar ESC\n",
    "    k=cv2.waitKey(70) & 0xFF\n",
    "    if k==27:\n",
    "        break\n",
    "\n",
    "#cierre de video y ventana\n",
    "cap.release()\n",
    "cv2.destroyAllWindows()\n"
   ]
  }
 ],
 "metadata": {
  "kernelspec": {
   "display_name": "Python 3.9.9 64-bit",
   "language": "python",
   "name": "python3"
  },
  "language_info": {
   "codemirror_mode": {
    "name": "ipython",
    "version": 3
   },
   "file_extension": ".py",
   "mimetype": "text/x-python",
   "name": "python",
   "nbconvert_exporter": "python",
   "pygments_lexer": "ipython3",
   "version": "3.9.9"
  },
  "orig_nbformat": 4,
  "vscode": {
   "interpreter": {
    "hash": "11938c6bc6919ae2720b4d5011047913343b08a43b18698fd82dedb0d4417594"
   }
  }
 },
 "nbformat": 4,
 "nbformat_minor": 2
}
